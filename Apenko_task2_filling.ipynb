{
 "cells": [
  {
   "cell_type": "code",
   "execution_count": 1,
   "metadata": {},
   "outputs": [],
   "source": [
    "import matplotlib.patches as patches\n",
    "import matplotlib.pyplot as plt\n",
    "import numpy as np\n",
    "import matplotlib.animation as animation\n",
    "import math\n",
    "from operator import itemgetter"
   ]
  },
  {
   "cell_type": "code",
   "execution_count": 2,
   "metadata": {},
   "outputs": [],
   "source": [
    "def user_input():\n",
    "    points = []\n",
    "    print(\"Введите точки для задания многоугольника:\")\n",
    "    x, y = map(int, input().split())\n",
    "    points.append([x,y])\n",
    "    flag = True\n",
    "    while (flag):\n",
    "        x, y = map(int, input().split())\n",
    "        points.append([x,y])\n",
    "        if (points[0][0] == x and points[0][1] == y):\n",
    "            flag = False       \n",
    "    return points"
   ]
  },
  {
   "cell_type": "code",
   "execution_count": 3,
   "metadata": {},
   "outputs": [],
   "source": [
    "def get_all_edges(points):\n",
    "    all_edges = []\n",
    "    p = points[:-1]\n",
    "\n",
    "    y_min, y_max, x_val, x_min, x_max, slope = 0, 0, 0, 0, 0, 0\n",
    "    # наклон 1/m\n",
    "\n",
    "    for i in range(0,len(points)-1):\n",
    "        if (points[i][1] < points[i+1][1]):\n",
    "            y_min = points[i][1]\n",
    "            x_val = points[i][0]\n",
    "            y_max = points[i+1][1]\n",
    "        else:\n",
    "            y_min = points[i+1][1]\n",
    "            x_val = points[i+1][0]\n",
    "            y_max = points[i][1]\n",
    "        x_min = min(points[i][0], points[i+1][0])\n",
    "        x_max = max(points[i][0], points[i+1][0])\n",
    "        if ((y_max - y_min) == 0):\n",
    "            slope = float(\"inf\") \n",
    "        else:\n",
    "            slope = (points[i+1][0] - points[i][0])/(points[i+1][1] - points[i][1])\n",
    "            #slope = (x_max - x_min)/(y_max - y_min)\n",
    "        all_edges.append([y_min, y_max, x_val, slope])\n",
    "\n",
    "    return all_edges"
   ]
  },
  {
   "cell_type": "code",
   "execution_count": 4,
   "metadata": {},
   "outputs": [],
   "source": [
    "def set_global_tab(all_edges):    \n",
    "    global_tab = []\n",
    "\n",
    "    for i in range(0, len(all_edges)):\n",
    "        if(all_edges[i][3] != float(\"inf\")):\n",
    "            if(global_tab == False):\n",
    "                global_tab.append(all_edges[i])\n",
    "                #index = 0\n",
    "            else:\n",
    "                global_tab.append(all_edges[i])\n",
    "\n",
    "    global_tab.sort(key = itemgetter(0,1,2))\n",
    "    return global_tab"
   ]
  },
  {
   "cell_type": "code",
   "execution_count": 5,
   "metadata": {},
   "outputs": [],
   "source": [
    "def set_active_tab(global_tab):    \n",
    "    #устанавливаем сканирующую прямую\n",
    "    scan_line = global_tab[0][0]\n",
    "\n",
    "    #m = global_tab.copy()\n",
    "    #print(m)\n",
    "\n",
    "    active = []\n",
    "    temp = []\n",
    "    i = 0\n",
    "\n",
    "    while(i < len(global_tab)):\n",
    "        if(global_tab[i][0] == scan_line):\n",
    "            temp = global_tab.pop(i)\n",
    "            active.append(temp[1:4])\n",
    "            i -= 1\n",
    "        i +=1\n",
    "    return global_tab, scan_line, active"
   ]
  },
  {
   "cell_type": "code",
   "execution_count": 15,
   "metadata": {},
   "outputs": [],
   "source": [
    "def filling_polygon(active, global_tab, scan_line):    \n",
    "    x_points = []\n",
    "    y_points = []\n",
    "\n",
    "    while(active):\n",
    "        mass_x = []\n",
    "        # шаг 1\n",
    "        #прорисовка и сортировка\n",
    "        for i in range(0, len(active)-1):\n",
    "            mass_x = [k for k in range (int(active[i][1]),int(active[i+1][1]+1))]\n",
    "            if(i%2 == 0):\n",
    "                for j in range(0, len(mass_x)):\n",
    "                    x_points.append(mass_x[j])\n",
    "                    y_points.append(scan_line)\n",
    "\n",
    "        # шаг 2    \n",
    "        scan_line += 1\n",
    "\n",
    "\n",
    "        # шаг 3    \n",
    "        #очистка актива\n",
    "        h = 0\n",
    "        while(h < len(active)):\n",
    "            if(active[h][0] == scan_line):\n",
    "                active.pop(h)\n",
    "                h -= 1\n",
    "            h += 1\n",
    "\n",
    "\n",
    "        # шаг 4    \n",
    "        for i in range(0, len(active)):\n",
    "            active[i][1] += active[i][2]\n",
    "\n",
    "\n",
    "\n",
    "        # шаг 5    \n",
    "        #добавление из глобальнового в актив\n",
    "        temp = []\n",
    "        i = 0\n",
    "\n",
    "        while(i < len(global_tab)):\n",
    "            if(global_tab[i][0] == scan_line):\n",
    "                temp = global_tab.pop(i)\n",
    "                active.append(temp[1:4])\n",
    "                i -= 1\n",
    "            i +=1\n",
    "\n",
    "\n",
    "        # шаг 6        \n",
    "        active.sort(key = itemgetter(1))\n",
    "\n",
    "    return x_points, y_points"
   ]
  },
  {
   "cell_type": "code",
   "execution_count": 7,
   "metadata": {},
   "outputs": [
    {
     "name": "stdout",
     "output_type": "stream",
     "text": [
      "Введите точки для задания многоугольника:\n",
      "10 10\n",
      "10 16\n",
      "16 20\n",
      "28 10\n",
      "28 16\n",
      "22 10\n",
      "10 10\n"
     ]
    },
    {
     "name": "stderr",
     "output_type": "stream",
     "text": [
      "MovieWriter PillowWriter unavailable; trying to use <class 'matplotlib.animation.PillowWriter'> instead.\n"
     ]
    },
    {
     "data": {
      "image/png": "[encoded data removed]",
      "text/plain": [
       "<Figure size 432x288 with 1 Axes>"
      ]
     },
     "metadata": {
      "needs_background": "light"
     },
     "output_type": "display_data"
    }
   ],
   "source": [
    "points = user_input()\n",
    "\n",
    "all_edges = get_all_edges(points)\n",
    "\n",
    "global_tab = set_global_tab(all_edges)\n",
    "\n",
    "temp = set_active_tab(global_tab)\n",
    "global_tab = temp[0]\n",
    "scan_line = temp[1]\n",
    "active = temp[2]\n",
    "\n",
    "temp = filling_polygon(active, global_tab, scan_line)\n",
    "x_points = temp[0]\n",
    "y_points = temp[1]\n",
    "\n",
    "\n",
    "fig, ax = plt.subplots()\n",
    "\n",
    "def init():\n",
    "    for i in range(0,len(points)-1):\n",
    "        plt.plot((points[i][0],points[i+1][0]),(points[i][1],points[i+1][1]), c = 'b')\n",
    "\n",
    "def animate(i):\n",
    "    line = ax.scatter([x_points[i]],[y_points[i]], c = 'r', s = 150, marker = 's')\n",
    "    return line\n",
    "\n",
    "anim = animation.FuncAnimation(fig, animate, frames=len(x_points), init_func=init, interval=10, repeat=False)\n",
    "anim.save('заливка многоугольника.gif', writer='PillowWriter', fps=10)    "
   ]
  },
  {
   "cell_type": "code",
   "execution_count": 8,
   "metadata": {},
   "outputs": [
    {
     "name": "stdout",
     "output_type": "stream",
     "text": [
      "Введите точки для задания многоугольника:\n",
      "1 1\n",
      "1 6\n",
      "9 14\n",
      "3 14\n",
      "9 8\n",
      "5 4\n",
      "11 4\n",
      "11 10\n",
      "14 10\n",
      "14 1\n",
      "1 1\n"
     ]
    },
    {
     "name": "stderr",
     "output_type": "stream",
     "text": [
      "MovieWriter PillowWriter unavailable; trying to use <class 'matplotlib.animation.PillowWriter'> instead.\n"
     ]
    },
    {
     "data": {
      "image/png": "[encoded data removed]",
      "text/plain": [
       "<Figure size 432x288 with 1 Axes>"
      ]
     },
     "metadata": {
      "needs_background": "light"
     },
     "output_type": "display_data"
    }
   ],
   "source": [
    "points = user_input()\n",
    "\n",
    "all_edges = get_all_edges(points)\n",
    "\n",
    "global_tab = set_global_tab(all_edges)\n",
    "\n",
    "temp = set_active_tab(global_tab)\n",
    "global_tab = temp[0]\n",
    "scan_line = temp[1]\n",
    "active = temp[2]\n",
    "\n",
    "temp = filling_polygon(active, global_tab, scan_line)\n",
    "x_points = temp[0]\n",
    "y_points = temp[1]\n",
    "\n",
    "\n",
    "fig, ax = plt.subplots()\n",
    "\n",
    "def init():\n",
    "    for i in range(0,len(points)-1):\n",
    "        plt.plot((points[i][0],points[i+1][0]),(points[i][1],points[i+1][1]), c = 'b')\n",
    "\n",
    "def animate(i):\n",
    "    line = ax.scatter([x_points[i]],[y_points[i]], c = 'r', s = 150, marker = 's')\n",
    "    return line\n",
    "\n",
    "anim = animation.FuncAnimation(fig, animate, frames=len(x_points), init_func=init, interval=10, repeat=False)\n",
    "anim.save('заливка многоугольника2.gif', writer='PillowWriter', fps=10)    "
   ]
  },
  {
   "cell_type": "code",
   "execution_count": 9,
   "metadata": {},
   "outputs": [
    {
     "name": "stdout",
     "output_type": "stream",
     "text": [
      "Введите точки для задания многоугольника:\n",
      "15 23\n",
      "-9 6\n",
      "0 5\n",
      "-4 1\n",
      "6 -7\n",
      "1 1\n",
      "8 15\n",
      "-6 -6\n",
      "15 -6\n",
      "15 23\n"
     ]
    },
    {
     "name": "stderr",
     "output_type": "stream",
     "text": [
      "MovieWriter PillowWriter unavailable; trying to use <class 'matplotlib.animation.PillowWriter'> instead.\n"
     ]
    },
    {
     "data": {
      "image/png": "[encoded data removed]",
      "text/plain": [
       "<Figure size 432x288 with 1 Axes>"
      ]
     },
     "metadata": {
      "needs_background": "light"
     },
     "output_type": "display_data"
    }
   ],
   "source": [
    "points = user_input()\n",
    "\n",
    "all_edges = get_all_edges(points)\n",
    "\n",
    "global_tab = set_global_tab(all_edges)\n",
    "\n",
    "temp = set_active_tab(global_tab)\n",
    "global_tab = temp[0]\n",
    "scan_line = temp[1]\n",
    "active = temp[2]\n",
    "\n",
    "temp = filling_polygon(active, global_tab, scan_line)\n",
    "x_points = temp[0]\n",
    "y_points = temp[1]\n",
    "\n",
    "\n",
    "fig, ax = plt.subplots()\n",
    "\n",
    "def init():\n",
    "    for i in range(0,len(points)-1):\n",
    "        plt.plot((points[i][0],points[i+1][0]),(points[i][1],points[i+1][1]), c = 'b')\n",
    "\n",
    "def animate(i):\n",
    "    line = ax.scatter([x_points[i]],[y_points[i]], c = 'r', s = 150, marker = 's')\n",
    "    return line\n",
    "\n",
    "anim = animation.FuncAnimation(fig, animate, frames=len(x_points), init_func=init, interval=10, repeat=False)\n",
    "anim.save('заливка многоугольника3.gif', writer='PillowWriter', fps=10)    "
   ]
  },
  {
   "cell_type": "code",
   "execution_count": 10,
   "metadata": {},
   "outputs": [
    {
     "name": "stdout",
     "output_type": "stream",
     "text": [
      "Введите точки для задания многоугольника:\n",
      "-8 -8\n",
      "6 -8\n",
      "6 15\n",
      "1 4\n",
      "-8 15\n",
      "-8 -8\n"
     ]
    },
    {
     "name": "stderr",
     "output_type": "stream",
     "text": [
      "MovieWriter PillowWriter unavailable; trying to use <class 'matplotlib.animation.PillowWriter'> instead.\n"
     ]
    },
    {
     "data": {
      "image/png": "[encoded data removed]",
      "text/plain": [
       "<Figure size 432x288 with 1 Axes>"
      ]
     },
     "metadata": {
      "needs_background": "light"
     },
     "output_type": "display_data"
    }
   ],
   "source": [
    "points = user_input()\n",
    "\n",
    "all_edges = get_all_edges(points)\n",
    "\n",
    "global_tab = set_global_tab(all_edges)\n",
    "\n",
    "temp = set_active_tab(global_tab)\n",
    "global_tab = temp[0]\n",
    "scan_line = temp[1]\n",
    "active = temp[2]\n",
    "\n",
    "temp = filling_polygon(active, global_tab, scan_line)\n",
    "x_points = temp[0]\n",
    "y_points = temp[1]\n",
    "\n",
    "\n",
    "fig, ax = plt.subplots()\n",
    "\n",
    "def init():\n",
    "    for i in range(0,len(points)-1):\n",
    "        plt.plot((points[i][0],points[i+1][0]),(points[i][1],points[i+1][1]), c = 'b')\n",
    "\n",
    "def animate(i):\n",
    "    line = ax.scatter([x_points[i]],[y_points[i]], c = 'r', s = 150, marker = 's')\n",
    "    return line\n",
    "\n",
    "anim = animation.FuncAnimation(fig, animate, frames=len(x_points), init_func=init, interval=10, repeat=False)\n",
    "anim.save('заливка многоугольника4.gif', writer='PillowWriter', fps=10)    "
   ]
  },
  {
   "cell_type": "code",
   "execution_count": 16,
   "metadata": {},
   "outputs": [
    {
     "name": "stdout",
     "output_type": "stream",
     "text": [
      "Введите точки для задания многоугольника:\n",
      "1 1\n",
      "1 18\n",
      "14 1\n",
      "14 18\n",
      "1 1\n"
     ]
    },
    {
     "name": "stderr",
     "output_type": "stream",
     "text": [
      "MovieWriter PillowWriter unavailable; trying to use <class 'matplotlib.animation.PillowWriter'> instead.\n"
     ]
    },
    {
     "data": {
      "image/png": "[encoded data removed]",
      "text/plain": [
       "<Figure size 432x288 with 1 Axes>"
      ]
     },
     "metadata": {
      "needs_background": "light"
     },
     "output_type": "display_data"
    }
   ],
   "source": [
    "points = user_input()\n",
    "\n",
    "all_edges = get_all_edges(points)\n",
    "\n",
    "global_tab = set_global_tab(all_edges)\n",
    "\n",
    "temp = set_active_tab(global_tab)\n",
    "global_tab = temp[0]\n",
    "scan_line = temp[1]\n",
    "active = temp[2]\n",
    "\n",
    "temp = filling_polygon(active, global_tab, scan_line)\n",
    "x_points = temp[0]\n",
    "y_points = temp[1]\n",
    "\n",
    "\n",
    "fig, ax = plt.subplots()\n",
    "\n",
    "def init():\n",
    "    for i in range(0,len(points)-1):\n",
    "        plt.plot((points[i][0],points[i+1][0]),(points[i][1],points[i+1][1]), c = 'b')\n",
    "\n",
    "def animate(i):\n",
    "    line = ax.scatter([x_points[i]],[y_points[i]], c = 'r', s = 150, marker = 's')\n",
    "    return line\n",
    "\n",
    "anim = animation.FuncAnimation(fig, animate, frames=len(x_points), init_func=init, interval=10, repeat=False)\n",
    "anim.save('заливка многоугольника5.gif', writer='PillowWriter', fps=10)    "
   ]
  },
  {
   "cell_type": "code",
   "execution_count": null,
   "metadata": {},
   "outputs": [],
   "source": []
  }
 ],
 "metadata": {
  "kernelspec": {
   "display_name": "Python 3",
   "language": "python",
   "name": "python3"
  },
  "language_info": {
   "codemirror_mode": {
    "name": "ipython",
    "version": 3
   },
   "file_extension": ".py",
   "mimetype": "text/x-python",
   "name": "python",
   "nbconvert_exporter": "python",
   "pygments_lexer": "ipython3",
   "version": "3.7.6"
  }
 },
 "nbformat": 4,
 "nbformat_minor": 4
}
